{
 "cells": [
  {
   "cell_type": "markdown",
   "metadata": {},
   "source": [
    "<p> <b> <h1> Chapter 5 - Statistics</h1> </b> </p>\n",
    "<p> Statistics are a field of knoledge that deservers a hole room in a library instead of a single chapter, but we are going to se the basics to understand in Data Science.</p>\n",
    "<p> We saw how to produce and visualize data, but now, we are going to describe them.</p>\n",
    "<p> <b>Describing a set of data </b> </p>"
   ]
  },
  {
   "cell_type": "code",
   "execution_count": 28,
   "metadata": {},
   "outputs": [],
   "source": [
    "import random\n",
    "from matplotlib import pyplot as plt\n",
    "from collections import Counter\n",
    "from numpy import dot\n",
    "num_friends = [random.randint(0,100) for i in range(204)]\n",
    "daily_minutes = [random.randint(10,200) for i in range(204)]\n",
    "user=list(zip(num_friends,daily_minutes))"
   ]
  },
  {
   "cell_type": "code",
   "execution_count": 3,
   "metadata": {},
   "outputs": [],
   "source": [
    "friend_counts = Counter(num_friends)\n",
    "xs = range(101)\n",
    "ys = [friend_counts[x] for x in xs]"
   ]
  },
  {
   "cell_type": "code",
   "execution_count": 4,
   "metadata": {},
   "outputs": [
    {
     "data": {
      "image/png": "[encoded data removed]",
      "text/plain": [
       "<Figure size 432x288 with 1 Axes>"
      ]
     },
     "metadata": {
      "needs_background": "light"
     },
     "output_type": "display_data"
    }
   ],
   "source": [
    "plt.bar(xs, ys)\n",
    "plt.axis([0,101,0,7])\n",
    "plt.title(\"Friends Count Histogram\")\n",
    "plt.xlabel(\"Number of Friends\")\n",
    "plt.ylabel(\"Number of People\")\n",
    "plt.show()"
   ]
  },
  {
   "cell_type": "code",
   "execution_count": 5,
   "metadata": {},
   "outputs": [],
   "source": [
    "num_points = len(num_friends)\n",
    "largest_value = max(num_friends)\n",
    "smallest_value = min(num_friends)"
   ]
  },
  {
   "cell_type": "code",
   "execution_count": 6,
   "metadata": {},
   "outputs": [],
   "source": [
    "sorted_values = sorted(num_friends)\n",
    "smallest_value = sorted_values[0]\n",
    "second_smallest_vallue = sorted_values[1]\n",
    "second_largest_value = sorted_values[-2]"
   ]
  },
  {
   "cell_type": "markdown",
   "metadata": {},
   "source": [
    "<p> <b> Central Tendency</b> </p>\n",
    "<p> Generally, we want to know where our data is centred. We commonly look for the mean value.</p>"
   ]
  },
  {
   "cell_type": "code",
   "execution_count": 11,
   "metadata": {},
   "outputs": [
    {
     "data": {
      "text/plain": [
       "52.15686274509804"
      ]
     },
     "execution_count": 11,
     "metadata": {},
     "output_type": "execute_result"
    }
   ],
   "source": [
    "def mean(x):\n",
    "    return(sum(x)/len(x))\n",
    "mean(num_friends)"
   ]
  },
  {
   "cell_type": "markdown",
   "metadata": {},
   "source": [
    "<p> Sometimes we can calculate the median, the median value is the value that separates the higher half and the lower half of data. If the set of data has a odd number of values, it is the value that is in the middle; if the set of data has a even number of values, it is the average of the middle values. </p>"
   ]
  },
  {
   "cell_type": "code",
   "execution_count": 10,
   "metadata": {},
   "outputs": [
    {
     "data": {
      "text/plain": [
       "54.0"
      ]
     },
     "execution_count": 10,
     "metadata": {},
     "output_type": "execute_result"
    }
   ],
   "source": [
    "def median(v):\n",
    "    n = len(v)\n",
    "    sorted_v = sorted(v)\n",
    "    midpoint = n//2\n",
    "    \n",
    "    if n % 2 ==1:\n",
    "        #if the number is odd\n",
    "        return sorted_v[midpoint]\n",
    "    else:\n",
    "        #iff the number is even\n",
    "        lo = midpoint -1\n",
    "        hi = midpoint\n",
    "        return (sorted_v[lo]+sorted_v[hi])/2\n",
    "    \n",
    "median(num_friends)"
   ]
  },
  {
   "cell_type": "markdown",
   "metadata": {},
   "source": [
    "<p> When we want to know the value that is higher than P percaint of the set of data, we can use quantile.</p> "
   ]
  },
  {
   "cell_type": "code",
   "execution_count": 12,
   "metadata": {},
   "outputs": [
    {
     "data": {
      "text/plain": [
       "11"
      ]
     },
     "execution_count": 12,
     "metadata": {},
     "output_type": "execute_result"
    }
   ],
   "source": [
    "def quantile(x, p):\n",
    "    p_index = int(p * len(x))\n",
    "    return sorted(x)[p_index]\n",
    "\n",
    "quantile(num_friends, 0.1) #the number of friends that is higher than 10% of the entire netwoork"
   ]
  },
  {
   "cell_type": "code",
   "execution_count": 13,
   "metadata": {},
   "outputs": [
    {
     "data": {
      "text/plain": [
       "[95]"
      ]
     },
     "execution_count": 13,
     "metadata": {},
     "output_type": "execute_result"
    }
   ],
   "source": [
    "def mode(x):\n",
    "    counts = Counter(x)\n",
    "    max_count = max(counts.values())\n",
    "    return [x_i for x_i, count in counts.items()\n",
    "            if count == max_count]\n",
    "mode(num_friends)"
   ]
  },
  {
   "cell_type": "markdown",
   "metadata": {},
   "source": [
    "<p> <b> Dispersion</b></p>\n",
    "<p> Dispersion is the mensuration of how much the set differ.<p>"
   ]
  },
  {
   "cell_type": "code",
   "execution_count": 14,
   "metadata": {},
   "outputs": [
    {
     "data": {
      "text/plain": [
       "100"
      ]
     },
     "execution_count": 14,
     "metadata": {},
     "output_type": "execute_result"
    }
   ],
   "source": [
    "#the amplitude\n",
    "def data_range(x):\n",
    "    return max(x)-min(x)\n",
    "data_range(num_friends)"
   ]
  },
  {
   "cell_type": "code",
   "execution_count": 32,
   "metadata": {},
   "outputs": [
    {
     "data": {
      "text/plain": [
       "904.3398773302428"
      ]
     },
     "execution_count": 32,
     "metadata": {},
     "output_type": "execute_result"
    }
   ],
   "source": [
    "def de_mean(x):\n",
    "    x_bar = mean(x)\n",
    "    return[x_i - x_bar for x_i in x]\n",
    "#the variance\n",
    "def variance(x):\n",
    "    x_mean = mean(x)\n",
    "    deviation = de_mean(x)\n",
    "    sum_of_squares = sum([x_i**2 for x_i in deviation])\n",
    "    n = len(x)\n",
    "    return (sum_of_squares/(n-1))\n",
    "variance(num_friends)"
   ]
  },
  {
   "cell_type": "code",
   "execution_count": 35,
   "metadata": {},
   "outputs": [
    {
     "data": {
      "text/plain": [
       "30.072244301519014"
      ]
     },
     "execution_count": 35,
     "metadata": {},
     "output_type": "execute_result"
    }
   ],
   "source": [
    "import math\n",
    "#the standart deviation\n",
    "def standard_deviation(x):\n",
    "    return math.sqrt(variance(x))\n",
    "standart_deviation(num_friends)"
   ]
  },
  {
   "cell_type": "markdown",
   "metadata": {},
   "source": [
    "<p><b> Covariance and Correlation</b></p>\n",
    "<p> Variance and standart deviation work for one-dimensional variable sets of data. Covariance is the measurement of how two variables relate to each other. </p>\n",
    "<p> Having a big and positive covariance between variable X and Y means that if you increase Y, X will be notably increased as well. On the other side a negative covariance between X and Y means that if you increase Y, you will notice a decrease on X.</p>"
   ]
  },
  {
   "cell_type": "code",
   "execution_count": 34,
   "metadata": {},
   "outputs": [
    {
     "data": {
      "text/plain": [
       "158.28897421037382"
      ]
     },
     "execution_count": 34,
     "metadata": {},
     "output_type": "execute_result"
    }
   ],
   "source": [
    "def covariance(x, y):\n",
    "    n = len(x)\n",
    "    return dot(de_mean(x), de_mean(y)) / (n-1)\n",
    "#remember that the function dot do the product between the correspondent pairs and then sum\n",
    "covariance(num_friends, daily_minutes)"
   ]
  },
  {
   "cell_type": "markdown",
   "metadata": {},
   "source": [
    "<p> Sometimes, it is a little hard to tell or define exactly what a big covariance means. In this case, the covariance is minute-friends per day and is a little hard to understand the meaning of minute-friends per day. If every user had twice friends as much (preserving the minutes) it would result in a covariance twice as big, but it is just inter-related variables.</p>\n",
    "<p> For those reasons, it is much more common to consider correlation, that divides the standard deviations of two variables.</p>"
   ]
  },
  {
   "cell_type": "code",
   "execution_count": 38,
   "metadata": {},
   "outputs": [
    {
     "data": {
      "text/plain": [
       "0.09512658650755684"
      ]
     },
     "execution_count": 38,
     "metadata": {},
     "output_type": "execute_result"
    }
   ],
   "source": [
    "def correlation(x,y):\n",
    "    stdev_x = standard_deviation(x)\n",
    "    stdev_y = standard_deviation(y)\n",
    "    try:\n",
    "        return covariance(x,y) / (stdev_x*stdev_y)\n",
    "    except ZeroDivision:\n",
    "        return 0 #if there is no amplitude, the correlation is 0\n",
    "correlation(num_friends, daily_minutes)\n",
    "#since it is generated from random numbers, this is a week correlation"
   ]
  },
  {
   "cell_type": "markdown",
   "metadata": {},
   "source": [
    "Correlation is a free unit variable and always stays between -1 (perfect anticorrelation) and 1 (perfect correlation)."
   ]
  }
 ],
 "metadata": {
  "kernelspec": {
   "display_name": "Python 3",
   "language": "python",
   "name": "python3"
  },
  "language_info": {
   "codemirror_mode": {
    "name": "ipython",
    "version": 3
   },
   "file_extension": ".py",
   "mimetype": "text/x-python",
   "name": "python",
   "nbconvert_exporter": "python",
   "pygments_lexer": "ipython3",
   "version": "3.7.6"
  }
 },
 "nbformat": 4,
 "nbformat_minor": 4
}
